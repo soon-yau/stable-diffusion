{
 "cells": [
  {
   "cell_type": "code",
   "execution_count": 50,
   "id": "430320e5",
   "metadata": {},
   "outputs": [],
   "source": [
    "import os\n",
    "import pandas as pd\n",
    "import json\n",
    "from pathlib import Path\n",
    "from collections import defaultdict\n",
    "from copy import deepcopy\n",
    "\n",
    "texts = json.load(open('/home/soon/datasets/deepfashion_multimodal/captions.json'))\n",
    "text_ids = list(texts.keys())\n",
    "\n",
    "data_file = 'train.txt'\n",
    "\n",
    "root = Path('/home/soon/datasets/deepfashion_inshop')\n",
    "image_root = root/'img_highres'\n",
    "pose_root = root/'smpl'\n",
    "style_root = root/'styles'\n"
   ]
  },
  {
   "cell_type": "code",
   "execution_count": 51,
   "id": "60495b63",
   "metadata": {},
   "outputs": [],
   "source": [
    "def select_style_dir(person_dir):\n",
    "    subdir_dict = {}\n",
    "    max_count = -1\n",
    "    max_name = None\n",
    "    for root, dirs, files in os.walk(person_dir):\n",
    "        if len(dirs) == 0:\n",
    "            count = len(files)\n",
    "            name = root.split('/')[-1]\n",
    "            subdir_dict[name] = count\n",
    "            if count > max_count:\n",
    "                max_count = count\n",
    "                max_name = name\n",
    "    return max_name\n",
    "\n",
    "def get_style_folder(image_file):\n",
    "    f_dir, f_name = os.path.split(image_file)\n",
    "    ret = f_name.split('.')[0].split('_')\n",
    "    person_id = ret[0]\n",
    "    style_id = '_'.join(ret[1:])\n",
    "    \n",
    "    person_dir = style_root/f_dir/person_id\n",
    "\n",
    "    if person_dir.exists():\n",
    "        if (person_dir/style_id).exists():\n",
    "            selected = style_id\n",
    "        else:\n",
    "            selected = select_style_dir(person_dir)\n",
    "\n",
    "        style_dir = os.path.join(f_dir, person_id, selected)\n",
    "    else:\n",
    "        style_dir = ''\n",
    "    return str(style_dir)\n",
    "\n",
    "def get_smpl_id(image_file):\n",
    "    if (pose_root/image_file).exists():\n",
    "        return image_file.replace('.jpg','')\n",
    "    else:\n",
    "        return ''\n",
    "    \n",
    "def get_text_base(text_id):\n",
    "    i = deepcopy(text_id)\n",
    "    i = i[:i.rfind('_')]\n",
    "    i = i[:i.rfind('_')]  \n",
    "    return i\n",
    "\n",
    "def get_text_dict(text_ids):\n",
    "    d = defaultdict(list)\n",
    "    for text_id in text_ids:\n",
    "        i = get_text_base(text_id)\n",
    "        d[i].append(text_id)\n",
    "    return d\n",
    "\n",
    "text_dict = get_text_dict(text_ids)\n",
    "\n",
    "def get_text_id(image_file):\n",
    "    image_id = image_file.replace('/','-')\n",
    "\n",
    "    if image_id in text_ids:\n",
    "        return image_id\n",
    "    else:\n",
    "        text_base = get_text_base(image_id)\n",
    "        text_list = text_dict.get(text_base, [''])\n",
    "        if len(text_list) == 0:\n",
    "            return text_list[0]\n",
    "        else: # search for full description\n",
    "            for t in text_list:\n",
    "                if 'full' in t:\n",
    "                    return t\n",
    "            return t"
   ]
  },
  {
   "cell_type": "code",
   "execution_count": 52,
   "id": "52cebdce",
   "metadata": {},
   "outputs": [],
   "source": [
    "df = pd.read_csv(data_file, names=['image'])\n",
    "image_files = list(df.image)\n",
    "df['styles'] = [get_style_folder(f) for f in image_files ]\n",
    "df['pose'] = [get_smpl_id(f) for f in image_files ]\n",
    "df['text'] = [get_text_id(f) for f in image_files]\n",
    "\n",
    "drop_indices = df[(df['text']=='') & (df['styles']=='')].index\n",
    "df = df.drop(drop_indices)"
   ]
  },
  {
   "cell_type": "code",
   "execution_count": 53,
   "id": "c05c9e81",
   "metadata": {},
   "outputs": [],
   "source": [
    "df.to_csv(data_file.replace('.txt','.csv'))"
   ]
  },
  {
   "cell_type": "code",
   "execution_count": 54,
   "id": "ca840039",
   "metadata": {},
   "outputs": [
    {
     "name": "stdout",
     "output_type": "stream",
     "text": [
      "Int64Index([ 2683,  7710,  9092, 11147, 14624, 19551, 19995, 20033, 22127,\n",
      "            22180, 25533, 27515, 27699, 30135, 31042, 33463, 34144, 40273,\n",
      "            43636, 43755, 44837, 45178],\n",
      "           dtype='int64')\n"
     ]
    }
   ],
   "source": [
    "print(drop_indices)"
   ]
  },
  {
   "cell_type": "code",
   "execution_count": 55,
   "id": "c6467940",
   "metadata": {},
   "outputs": [],
   "source": [
    "row = df.iloc[2]"
   ]
  },
  {
   "cell_type": "code",
   "execution_count": 56,
   "id": "7beb1ebe",
   "metadata": {},
   "outputs": [
    {
     "name": "stdout",
     "output_type": "stream",
     "text": [
      "image          MEN/Pants/id_00001611/01_1_front.jpg\n",
      "styles             MEN/Pants/id_00001611/01/1_front\n",
      "pose               MEN/Pants/id_00001611/01_1_front\n",
      "text      MEN-Pants-id_00001611-01_7_additional.jpg\n",
      "Name: 2, dtype: object\n"
     ]
    }
   ],
   "source": [
    "print(row)"
   ]
  },
  {
   "cell_type": "code",
   "execution_count": 57,
   "id": "cb90b2e2",
   "metadata": {},
   "outputs": [
    {
     "data": {
      "text/html": [
       "<div>\n",
       "<style scoped>\n",
       "    .dataframe tbody tr th:only-of-type {\n",
       "        vertical-align: middle;\n",
       "    }\n",
       "\n",
       "    .dataframe tbody tr th {\n",
       "        vertical-align: top;\n",
       "    }\n",
       "\n",
       "    .dataframe thead th {\n",
       "        text-align: right;\n",
       "    }\n",
       "</style>\n",
       "<table border=\"1\" class=\"dataframe\">\n",
       "  <thead>\n",
       "    <tr style=\"text-align: right;\">\n",
       "      <th></th>\n",
       "      <th>image</th>\n",
       "      <th>styles</th>\n",
       "      <th>pose</th>\n",
       "      <th>text</th>\n",
       "    </tr>\n",
       "  </thead>\n",
       "  <tbody>\n",
       "    <tr>\n",
       "      <th>0</th>\n",
       "      <td>WOMEN/Skirts/id_00000629/04_3_back.jpg</td>\n",
       "      <td>WOMEN/Skirts/id_00000629/04/4_full</td>\n",
       "      <td>WOMEN/Skirts/id_00000629/04_3_back</td>\n",
       "      <td>WOMEN-Skirts-id_00000629-04_4_full.jpg</td>\n",
       "    </tr>\n",
       "    <tr>\n",
       "      <th>1</th>\n",
       "      <td>WOMEN/Tees_Tanks/id_00007838/05_7_additional.jpg</td>\n",
       "      <td>WOMEN/Tees_Tanks/id_00007838/05/4_full</td>\n",
       "      <td></td>\n",
       "      <td>WOMEN-Tees_Tanks-id_00007838-05_4_full.jpg</td>\n",
       "    </tr>\n",
       "    <tr>\n",
       "      <th>2</th>\n",
       "      <td>MEN/Pants/id_00001611/01_1_front.jpg</td>\n",
       "      <td>MEN/Pants/id_00001611/01/1_front</td>\n",
       "      <td>MEN/Pants/id_00001611/01_1_front</td>\n",
       "      <td>MEN-Pants-id_00001611-01_7_additional.jpg</td>\n",
       "    </tr>\n",
       "    <tr>\n",
       "      <th>3</th>\n",
       "      <td>WOMEN/Shorts/id_00006215/07_4_full.jpg</td>\n",
       "      <td>WOMEN/Shorts/id_00006215/07/4_full</td>\n",
       "      <td>WOMEN/Shorts/id_00006215/07_4_full</td>\n",
       "      <td>WOMEN-Shorts-id_00006215-07_4_full.jpg</td>\n",
       "    </tr>\n",
       "    <tr>\n",
       "      <th>4</th>\n",
       "      <td>MEN/Tees_Tanks/id_00001222/04_3_back.jpg</td>\n",
       "      <td>MEN/Tees_Tanks/id_00001222/04/4_full</td>\n",
       "      <td>MEN/Tees_Tanks/id_00001222/04_3_back</td>\n",
       "      <td>MEN-Tees_Tanks-id_00001222-04_3_back.jpg</td>\n",
       "    </tr>\n",
       "  </tbody>\n",
       "</table>\n",
       "</div>"
      ],
      "text/plain": [
       "                                              image  \\\n",
       "0            WOMEN/Skirts/id_00000629/04_3_back.jpg   \n",
       "1  WOMEN/Tees_Tanks/id_00007838/05_7_additional.jpg   \n",
       "2              MEN/Pants/id_00001611/01_1_front.jpg   \n",
       "3            WOMEN/Shorts/id_00006215/07_4_full.jpg   \n",
       "4          MEN/Tees_Tanks/id_00001222/04_3_back.jpg   \n",
       "\n",
       "                                   styles  \\\n",
       "0      WOMEN/Skirts/id_00000629/04/4_full   \n",
       "1  WOMEN/Tees_Tanks/id_00007838/05/4_full   \n",
       "2        MEN/Pants/id_00001611/01/1_front   \n",
       "3      WOMEN/Shorts/id_00006215/07/4_full   \n",
       "4    MEN/Tees_Tanks/id_00001222/04/4_full   \n",
       "\n",
       "                                   pose  \\\n",
       "0    WOMEN/Skirts/id_00000629/04_3_back   \n",
       "1                                         \n",
       "2      MEN/Pants/id_00001611/01_1_front   \n",
       "3    WOMEN/Shorts/id_00006215/07_4_full   \n",
       "4  MEN/Tees_Tanks/id_00001222/04_3_back   \n",
       "\n",
       "                                         text  \n",
       "0      WOMEN-Skirts-id_00000629-04_4_full.jpg  \n",
       "1  WOMEN-Tees_Tanks-id_00007838-05_4_full.jpg  \n",
       "2   MEN-Pants-id_00001611-01_7_additional.jpg  \n",
       "3      WOMEN-Shorts-id_00006215-07_4_full.jpg  \n",
       "4    MEN-Tees_Tanks-id_00001222-04_3_back.jpg  "
      ]
     },
     "execution_count": 57,
     "metadata": {},
     "output_type": "execute_result"
    }
   ],
   "source": [
    "df.head()"
   ]
  },
  {
   "cell_type": "code",
   "execution_count": 61,
   "id": "0293890d",
   "metadata": {},
   "outputs": [
    {
     "data": {
      "text/plain": [
       "['/home/soon/datasets/deepfashion_inshop/styles/MEN/Pants/id_00001611/01/1_front/background.jpg',\n",
       " '/home/soon/datasets/deepfashion_inshop/styles/MEN/Pants/id_00001611/01/1_front/shoes.jpg',\n",
       " '/home/soon/datasets/deepfashion_inshop/styles/MEN/Pants/id_00001611/01/1_front/top.jpg',\n",
       " '/home/soon/datasets/deepfashion_inshop/styles/MEN/Pants/id_00001611/01/1_front/bottom.jpg']"
      ]
     },
     "execution_count": 61,
     "metadata": {},
     "output_type": "execute_result"
    }
   ],
   "source": [
    "from glob import glob\n",
    "style_files = glob(str(style_root/row.styles/'*.jpg'))"
   ]
  },
  {
   "cell_type": "code",
   "execution_count": 62,
   "id": "682c80b5",
   "metadata": {},
   "outputs": [],
   "source": [
    "style_names = ['face', 'background', 'top', 'bottom', 'shoes', 'accesories']"
   ]
  },
  {
   "cell_type": "code",
   "execution_count": 73,
   "id": "7b5f1359",
   "metadata": {},
   "outputs": [],
   "source": [
    "import torch\n",
    "from torchvision import transforms as T\n",
    "clip_transform = T.Compose([\n",
    "            T.ToTensor(),\n",
    "            T.Normalize(mean=(0.48145466, 0.4578275, 0.40821073), std=(0.26862954, 0.26130258, 0.27577711))\n",
    "        ])\n",
    "\n",
    "style_images = []\n",
    "for style_name in style_names[:]:\n",
    "    f_path = style_root/row.styles/f'{style_name}.jpg'\n",
    "    if f_path.exists():\n",
    "        style_image = clip_transform(Image.open(f_path))\n",
    "    else:\n",
    "        style_image = torch.zeros(3, 224, 224)\n",
    "    style_images.append(style_image)\n",
    "torch.stack(style_images)    "
   ]
  },
  {
   "cell_type": "code",
   "execution_count": 77,
   "id": "e45e0dbe",
   "metadata": {},
   "outputs": [
    {
     "data": {
      "text/plain": [
       "'MEN/Pants/id_00001611/01_1_front.jpg'"
      ]
     },
     "execution_count": 77,
     "metadata": {},
     "output_type": "execute_result"
    }
   ],
   "source": [
    "row.pose+'.jpg'"
   ]
  },
  {
   "cell_type": "code",
   "execution_count": 42,
   "id": "b5805cc8",
   "metadata": {},
   "outputs": [
    {
     "name": "stdout",
     "output_type": "stream",
     "text": [
      "{'4_full': 4}\n"
     ]
    },
    {
     "data": {
      "text/plain": [
       "'WOMEN/Rompers_Jumpsuits/id_00001045/07/4_full'"
      ]
     },
     "execution_count": 42,
     "metadata": {},
     "output_type": "execute_result"
    }
   ],
   "source": [
    "def get_style_folder(image_file):\n",
    "    f_dir, f_name = os.path.split(image_file)\n",
    "    ret = f_name.split('.')[0].split('_')\n",
    "    person_id = ret[0]\n",
    "    style_id = '_'.join(ret[1:])\n",
    "    \n",
    "    person_dir = style_root/f_dir/person_id\n",
    "    import pdb\n",
    "    #pdb.set_trace()\n",
    "    if person_dir.exists():\n",
    "        if (person_dir/style_id).exists():\n",
    "            selected = style_id\n",
    "        else:\n",
    "            selected = select_style_dir(person_dir)\n",
    "\n",
    "        style_dir = os.path.join(f_dir, person_id, selected)\n",
    "    else:\n",
    "        style_dir = ''\n",
    "    return str(style_dir)\n",
    "\n",
    "get_style_folder(str(row.image))"
   ]
  },
  {
   "cell_type": "code",
   "execution_count": 81,
   "id": "c3b6003b",
   "metadata": {},
   "outputs": [
    {
     "data": {
      "text/plain": [
       "623"
      ]
     },
     "execution_count": 81,
     "metadata": {},
     "output_type": "execute_result"
    }
   ],
   "source": [
    "len(df[(df.pose == '')].index)"
   ]
  },
  {
   "cell_type": "code",
   "execution_count": 85,
   "id": "3f3494fd",
   "metadata": {},
   "outputs": [],
   "source": [
    "df = pd.read_csv('train.csv')"
   ]
  },
  {
   "cell_type": "code",
   "execution_count": 86,
   "id": "d3333e6d",
   "metadata": {},
   "outputs": [
    {
     "data": {
      "text/plain": [
       "Unnamed: 0                                             34960\n",
       "image         WOMEN/Jackets_Coats/id_00000474/02_1_front.jpg\n",
       "styles                                                   NaN\n",
       "pose              WOMEN/Jackets_Coats/id_00000474/02_1_front\n",
       "text          WOMEN-Jackets_Coats-id_00000474-02_1_front.jpg\n",
       "Name: 34943, dtype: object"
      ]
     },
     "execution_count": 86,
     "metadata": {},
     "output_type": "execute_result"
    }
   ],
   "source": [
    "df.iloc[34943]"
   ]
  },
  {
   "cell_type": "code",
   "execution_count": 92,
   "id": "43db6266",
   "metadata": {},
   "outputs": [
    {
     "data": {
      "text/plain": [
       "2615"
      ]
     },
     "execution_count": 92,
     "metadata": {},
     "output_type": "execute_result"
    }
   ],
   "source": [
    "len(df[df.styles.isnull()])"
   ]
  },
  {
   "cell_type": "code",
   "execution_count": 93,
   "id": "39b1aa87",
   "metadata": {},
   "outputs": [
    {
     "data": {
      "text/plain": [
       "48018"
      ]
     },
     "execution_count": 93,
     "metadata": {},
     "output_type": "execute_result"
    }
   ],
   "source": [
    "len(df)"
   ]
  },
  {
   "cell_type": "code",
   "execution_count": null,
   "id": "a3ac04cd",
   "metadata": {},
   "outputs": [],
   "source": []
  }
 ],
 "metadata": {
  "kernelspec": {
   "display_name": "ldm",
   "language": "python",
   "name": "ldm"
  },
  "language_info": {
   "codemirror_mode": {
    "name": "ipython",
    "version": 3
   },
   "file_extension": ".py",
   "mimetype": "text/x-python",
   "name": "python",
   "nbconvert_exporter": "python",
   "pygments_lexer": "ipython3",
   "version": "3.8.5"
  }
 },
 "nbformat": 4,
 "nbformat_minor": 5
}
